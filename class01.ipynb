{
  "nbformat": 4,
  "nbformat_minor": 0,
  "metadata": {
    "colab": {
      "provenance": [],
      "authorship_tag": "ABX9TyO0AGhmAUm0FEVrB8JVkiFt",
      "include_colab_link": true
    },
    "kernelspec": {
      "name": "python3",
      "display_name": "Python 3"
    },
    "language_info": {
      "name": "python"
    }
  },
  "cells": [
    {
      "cell_type": "markdown",
      "metadata": {
        "id": "view-in-github",
        "colab_type": "text"
      },
      "source": [
        "<a href=\"https://colab.research.google.com/github/Yemnamehmood/Pythonpractice/blob/main/class01.ipynb\" target=\"_parent\"><img src=\"https://colab.research.google.com/assets/colab-badge.svg\" alt=\"Open In Colab\"/></a>"
      ]
    },
    {
      "cell_type": "code",
      "execution_count": null,
      "metadata": {
        "id": "nwKDGsKQzzTc"
      },
      "outputs": [],
      "source": [
        "#Assignment 1\n",
        "#CPU do one task at a time\n",
        "#GPU do many task at one time\n",
        "#TPU big brother of CPU AND GPU."
      ]
    },
    {
      "cell_type": "code",
      "source": [],
      "metadata": {
        "id": "-tavquis0qGJ"
      },
      "execution_count": null,
      "outputs": []
    },
    {
      "cell_type": "code",
      "source": [
        "print(\"Hello world\")"
      ],
      "metadata": {
        "colab": {
          "base_uri": "https://localhost:8080/"
        },
        "id": "AiQmA81V0Aic",
        "outputId": "8db9dde3-9add-487a-b206-e5a0cd48182a"
      },
      "execution_count": null,
      "outputs": [
        {
          "output_type": "stream",
          "name": "stdout",
          "text": [
            "Hello world\n"
          ]
        }
      ]
    },
    {
      "cell_type": "markdown",
      "source": [
        "# ***This is a print function***"
      ],
      "metadata": {
        "id": "v7cbwyx31Ioh"
      }
    },
    {
      "cell_type": "code",
      "source": [
        "print(\"Hello class\")\n"
      ],
      "metadata": {
        "colab": {
          "base_uri": "https://localhost:8080/"
        },
        "id": "h58TWM_m0KBV",
        "outputId": "6aee8c0e-6257-483a-da89-1bb91a5d85da"
      },
      "execution_count": null,
      "outputs": [
        {
          "output_type": "stream",
          "name": "stdout",
          "text": [
            "Hello class\n"
          ]
        }
      ]
    }
  ]
}